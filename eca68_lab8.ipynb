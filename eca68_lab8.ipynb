{
  "cells": [
    {
      "cell_type": "markdown",
      "metadata": {
        "id": "rNu6W1fL86OY"
      },
      "source": [
        "# Diamond Company Analytics Challenge\n",
        "\n",
        "**Time:** 35 minutes\n",
        "\n",
        "**Scenario:** You are the new data analyst at a prestigious diamond company. The CEO has called an urgent meeting and needs answers to critical business questions about the inventory.\n",
        "\n",
        "**Your Mission:** Analyze the diamond inventory data and provide insights to guide strategic decisions."
      ]
    },
    {
      "cell_type": "code",
      "execution_count": 1,
      "metadata": {
        "colab": {
          "base_uri": "https://localhost:8080/"
        },
        "id": "CPOhCF5y86Oa",
        "outputId": "6854be5c-7c55-48e5-fa48-7ec020c8dec3"
      },
      "outputs": [
        {
          "output_type": "stream",
          "name": "stdout",
          "text": [
            "Loading diamonds dataset...\n",
            "Dataset loaded successfully!\n"
          ]
        }
      ],
      "source": [
        "import polars as pl\n",
        "\n",
        "# Load the diamonds dataset\n",
        "print(\"Loading diamonds dataset...\")\n",
        "df = pl.read_csv('https://raw.githubusercontent.com/pycaret/pycaret/master/datasets/diamond.csv')\n",
        "print(\"Dataset loaded successfully!\")"
      ]
    },
    {
      "cell_type": "markdown",
      "metadata": {
        "id": "Io8qhOQK86Ob"
      },
      "source": [
        "## Section 1: Initial Inventory Assessment (5 minutes)\n",
        "\n",
        "The CEO walks in: \"Before we dive into specifics, I need to understand what we're working with. Give me the basics about our inventory database.\""
      ]
    },
    {
      "cell_type": "markdown",
      "metadata": {
        "id": "lokup_Gt86Ob"
      },
      "source": [
        "### Question 1: \"How extensive is our inventory database?\"\n",
        "\n",
        "The CEO needs to know the scale of data you're analyzing."
      ]
    },
    {
      "cell_type": "code",
      "execution_count": 4,
      "metadata": {
        "colab": {
          "base_uri": "https://localhost:8080/"
        },
        "id": "FEETI_RP86Ob",
        "outputId": "fb518aa3-f1df-453f-e4b4-ebd491e450dd"
      },
      "outputs": [
        {
          "output_type": "stream",
          "name": "stdout",
          "text": [
            "Our database has 6000 records and 8 attributes.\n"
          ]
        }
      ],
      "source": [
        "# Your code here:\n",
        "\n",
        "rows, cols = df.shape\n",
        "print(f\"Our database has {rows} records and {cols} attributes.\")\n",
        "\n"
      ]
    },
    {
      "cell_type": "markdown",
      "metadata": {
        "id": "ByelwZfZ86Oc"
      },
      "source": [
        "### Question 2: \"What information do we track about each diamond?\"\n",
        "\n",
        "List all the characteristics we record."
      ]
    },
    {
      "cell_type": "code",
      "execution_count": 5,
      "metadata": {
        "colab": {
          "base_uri": "https://localhost:8080/"
        },
        "id": "xH09WAPU86Oc",
        "outputId": "8639d708-35f6-4712-f093-a84584530991"
      },
      "outputs": [
        {
          "output_type": "stream",
          "name": "stdout",
          "text": [
            "We track the following attributes: ['Carat Weight', 'Cut', 'Color', 'Clarity', 'Polish', 'Symmetry', 'Report', 'Price']\n"
          ]
        }
      ],
      "source": [
        "# Your code here:\n",
        "cols = df.columns\n",
        "print(f\"We track the following attributes: {cols}\")"
      ]
    },
    {
      "cell_type": "markdown",
      "metadata": {
        "id": "yA4eHErz86Oc"
      },
      "source": [
        "### Question 3: \"When I look at one line in this database, what am I looking at?\"\n",
        "\n",
        "Explain in business terms:"
      ]
    },
    {
      "cell_type": "code",
      "source": [
        "# Each Row represents:\n",
        "\n",
        "print(\"\\nEach row represents: ONE DIAMOND\")\n",
        "print(\"This is our current grain: diamond-level data\")"
      ],
      "metadata": {
        "colab": {
          "base_uri": "https://localhost:8080/"
        },
        "id": "3L4colC_DH6-",
        "outputId": "c8c59ce8-e560-44a3-c454-2a2f398a9ed7"
      },
      "execution_count": 6,
      "outputs": [
        {
          "output_type": "stream",
          "name": "stdout",
          "text": [
            "\n",
            "Each row represents: ONE DIAMOND\n",
            "This is our current grain: diamond-level data\n"
          ]
        }
      ]
    },
    {
      "cell_type": "markdown",
      "metadata": {
        "id": "mT-EMj7Q86Oc"
      },
      "source": [
        "## Section 2: Strategic Business Questions (20 minutes)\n",
        "\n",
        "The CEO continues: \"Now let's get to the important questions. Our board meeting is tomorrow and I need concrete numbers.\""
      ]
    },
    {
      "cell_type": "markdown",
      "metadata": {
        "id": "jpLG8Mdv86Od"
      },
      "source": [
        "### Question 4: \"We're considering expanding our storage facilities. How many total carats do we have in inventory? I need to know if our vaults can handle the weight.\"\n",
        "\n",
        "Think about what measurement would help answer this."
      ]
    },
    {
      "cell_type": "code",
      "execution_count": 10,
      "metadata": {
        "colab": {
          "base_uri": "https://localhost:8080/"
        },
        "id": "_bD0j0M-86Od",
        "outputId": "881a68bf-d57d-431a-c5aa-cd417be6f144"
      },
      "outputs": [
        {
          "output_type": "stream",
          "name": "stdout",
          "text": [
            "Our inventory contains 8,007.12 carats of diamonds.\n"
          ]
        }
      ],
      "source": [
        "# Your code here:\n",
        "\n",
        "total_carats = df.select(pl.col(\"Carat Weight\").sum()).item()\n",
        "\n",
        "print(f\"Our inventory contains {total_carats:,.2f} carats of diamonds.\")\n"
      ]
    },
    {
      "cell_type": "markdown",
      "metadata": {
        "id": "Pt9WZlw786Od"
      },
      "source": [
        "### Question 5: \"Our new marketing campaign claims we have 'the widest variety of cuts in the industry.' Can you verify this?\"\n",
        "\n",
        "The CEO wants to know about variety, not quantity."
      ]
    },
    {
      "cell_type": "code",
      "execution_count": 12,
      "metadata": {
        "colab": {
          "base_uri": "https://localhost:8080/"
        },
        "id": "SQqi0iy886Od",
        "outputId": "de5d1153-d95c-4870-b92f-87cc9acaaf72"
      },
      "outputs": [
        {
          "output_type": "stream",
          "name": "stdout",
          "text": [
            "We have 5 distinct cut types: Signature-Ideal, Ideal, Fair, Very Good, Good\n"
          ]
        }
      ],
      "source": [
        "# Your code here:\n",
        "num_cuts = df.select(pl.col(\"Cut\").n_unique()).item()\n",
        "\n",
        "cuts = df.select(pl.col(\"Cut\").unique()).to_series().to_list()\n",
        "\n",
        "print(f\"We have {num_cuts} distinct cut types: {', '.join(cuts)}\")"
      ]
    },
    {
      "cell_type": "markdown",
      "metadata": {
        "id": "WoMoOq5986Oe"
      },
      "source": [
        "### Question 6: \"I'm meeting with our insurance company. They need to know our price exposure - what's our most and least valuable diamond?\""
      ]
    },
    {
      "cell_type": "markdown",
      "source": [],
      "metadata": {
        "id": "5QlkzrT9PBHK"
      }
    },
    {
      "cell_type": "code",
      "execution_count": 13,
      "metadata": {
        "colab": {
          "base_uri": "https://localhost:8080/"
        },
        "id": "IyG0KtAC86Oe",
        "outputId": "8ca1ff87-02b6-4383-dfc1-43c48d057aaf"
      },
      "outputs": [
        {
          "output_type": "stream",
          "name": "stdout",
          "text": [
            "Most valuable diamond:\n",
            "shape: (1, 8)\n",
            "┌──────────────┬───────┬───────┬─────────┬────────┬──────────┬────────┬────────┐\n",
            "│ Carat Weight ┆ Cut   ┆ Color ┆ Clarity ┆ Polish ┆ Symmetry ┆ Report ┆ Price  │\n",
            "│ ---          ┆ ---   ┆ ---   ┆ ---     ┆ ---    ┆ ---      ┆ ---    ┆ ---    │\n",
            "│ f64          ┆ str   ┆ str   ┆ str     ┆ str    ┆ str      ┆ str    ┆ i64    │\n",
            "╞══════════════╪═══════╪═══════╪═════════╪════════╪══════════╪════════╪════════╡\n",
            "│ 2.79         ┆ Ideal ┆ D     ┆ IF      ┆ EX     ┆ EX       ┆ GIA    ┆ 101561 │\n",
            "└──────────────┴───────┴───────┴─────────┴────────┴──────────┴────────┴────────┘\n",
            "\n",
            "Least valuable diamond:\n",
            "shape: (1, 8)\n",
            "┌──────────────┬──────┬───────┬─────────┬────────┬──────────┬────────┬───────┐\n",
            "│ Carat Weight ┆ Cut  ┆ Color ┆ Clarity ┆ Polish ┆ Symmetry ┆ Report ┆ Price │\n",
            "│ ---          ┆ ---  ┆ ---   ┆ ---     ┆ ---    ┆ ---      ┆ ---    ┆ ---   │\n",
            "│ f64          ┆ str  ┆ str   ┆ str     ┆ str    ┆ str      ┆ str    ┆ i64   │\n",
            "╞══════════════╪══════╪═══════╪═════════╪════════╪══════════╪════════╪═══════╡\n",
            "│ 0.77         ┆ Good ┆ I     ┆ VS1     ┆ VG     ┆ G        ┆ AGSL   ┆ 2184  │\n",
            "└──────────────┴──────┴───────┴─────────┴────────┴──────────┴────────┴───────┘\n"
          ]
        }
      ],
      "source": [
        "# Your code here:\n",
        "most_valuable = df.sort(\"Price\", descending=True).head(1)\n",
        "least_valuable = df.sort(\"Price\", descending=False).head(1)\n",
        "\n",
        "print(\"Most valuable diamond:\")\n",
        "print(most_valuable)\n",
        "\n",
        "print(\"\\nLeast valuable diamond:\")\n",
        "print(least_valuable)"
      ]
    },
    {
      "cell_type": "markdown",
      "metadata": {
        "id": "w8BAdSjX86Oe"
      },
      "source": [
        "### Question 7: \"Which color grades should we focus on in our premium line? I need typical prices across our color spectrum.\"\n",
        "\n",
        "The CEO wants to understand pricing patterns."
      ]
    },
    {
      "cell_type": "code",
      "execution_count": 15,
      "metadata": {
        "colab": {
          "base_uri": "https://localhost:8080/"
        },
        "id": "NRylhPRf86Oe",
        "outputId": "b6b64ad7-a6ef-430f-8bf9-10200ab873b9"
      },
      "outputs": [
        {
          "output_type": "stream",
          "name": "stdout",
          "text": [
            "shape: (6, 5)\n",
            "┌───────┬───────┬──────────────┬──────────────┬──────────────┐\n",
            "│ Color ┆ count ┆ avg_price    ┆ median_price ┆ total_carats │\n",
            "│ ---   ┆ ---   ┆ ---          ┆ ---          ┆ ---          │\n",
            "│ str   ┆ u32   ┆ f64          ┆ f64          ┆ f64          │\n",
            "╞═══════╪═══════╪══════════════╪══════════════╪══════════════╡\n",
            "│ F     ┆ 1013  ┆ 12712.241856 ┆ 8860.0       ┆ 1325.25      │\n",
            "│ G     ┆ 1501  ┆ 12520.050633 ┆ 8800.0       ┆ 2049.95      │\n",
            "│ D     ┆ 661   ┆ 15255.783661 ┆ 7567.0       ┆ 836.08       │\n",
            "│ H     ┆ 1079  ┆ 10487.347544 ┆ 7169.0       ┆ 1490.11      │\n",
            "│ E     ┆ 778   ┆ 11539.190231 ┆ 7059.5       ┆ 952.78       │\n",
            "│ I     ┆ 968   ┆ 8989.636364  ┆ 6655.0       ┆ 1352.95      │\n",
            "└───────┴───────┴──────────────┴──────────────┴──────────────┘\n"
          ]
        }
      ],
      "source": [
        "# Your code here:\n",
        "color_stats = (\n",
        "    df.group_by(\"Color\")\n",
        "      .agg([\n",
        "          pl.len().alias(\"count\"),\n",
        "          pl.col(\"Price\").mean().alias(\"avg_price\"),\n",
        "          pl.col(\"Price\").median().alias(\"median_price\"),\n",
        "          pl.col(\"Carat Weight\").sum().alias(\"total_carats\")\n",
        "      ])\n",
        "      .sort(\"median_price\", descending=True)\n",
        ")\n",
        "\n",
        "print(color_stats)"
      ]
    },
    {
      "cell_type": "markdown",
      "metadata": {
        "id": "tTChql0T86Oe"
      },
      "source": [
        "**Reflection:** After analyzing by color, how has your view of the data changed? What does each row in your result represent now?"
      ]
    },
    {
      "cell_type": "markdown",
      "metadata": {
        "id": "sSH1wBn086Oe"
      },
      "source": [
        "**Your answer:** New grain = Each row represents a new color category"
      ]
    },
    {
      "cell_type": "markdown",
      "metadata": {
        "id": "kndSIBpL86Of"
      },
      "source": [
        "## Section 3: Advanced Strategic Analysis (10 minutes)\n",
        "\n",
        "The CEO leans forward: \"These next questions will shape our strategy for next year.\""
      ]
    },
    {
      "cell_type": "markdown",
      "metadata": {
        "id": "sIvtIPuH86Of"
      },
      "source": [
        "### Question 8: \"We're thinking of specializing in certain clarity grades. For our investor deck, I need a complete breakdown showing: how many diamonds we have in each clarity grade, their typical price, and the total carats we're holding for each grade.\""
      ]
    },
    {
      "cell_type": "code",
      "execution_count": 16,
      "metadata": {
        "colab": {
          "base_uri": "https://localhost:8080/"
        },
        "id": "8w5O500j86Of",
        "outputId": "c1132d5d-b5f7-4ed0-f55b-125a308b5778"
      },
      "outputs": [
        {
          "output_type": "stream",
          "name": "stdout",
          "text": [
            "shape: (7, 4)\n",
            "┌─────────┬───────┬──────────────┬──────────────┐\n",
            "│ Clarity ┆ count ┆ median_price ┆ total_carats │\n",
            "│ ---     ┆ ---   ┆ ---          ┆ ---          │\n",
            "│ str     ┆ u32   ┆ f64          ┆ f64          │\n",
            "╞═════════╪═══════╪══════════════╪══════════════╡\n",
            "│ FL      ┆ 4     ┆ 62371.5      ┆ 7.87         │\n",
            "│ IF      ┆ 219   ┆ 12647.0      ┆ 316.0        │\n",
            "│ VVS1    ┆ 285   ┆ 11142.0      ┆ 389.43       │\n",
            "│ VVS2    ┆ 666   ┆ 10266.0      ┆ 876.58       │\n",
            "│ VS1     ┆ 1192  ┆ 9245.0       ┆ 1682.74      │\n",
            "│ VS2     ┆ 1575  ┆ 7568.0       ┆ 2170.81      │\n",
            "│ SI1     ┆ 2059  ┆ 5417.0       ┆ 2563.69      │\n",
            "└─────────┴───────┴──────────────┴──────────────┘\n"
          ]
        }
      ],
      "source": [
        "# Your code here:\n",
        "clarity_stats = (\n",
        "    df.group_by(\"Clarity\")\n",
        "      .agg([\n",
        "          pl.len().alias(\"count\"),\n",
        "          pl.col(\"Price\").median().alias(\"median_price\"),\n",
        "          pl.col(\"Carat Weight\").sum().alias(\"total_carats\")\n",
        "      ])\n",
        "      .sort(\"median_price\", descending=True)\n",
        ")\n",
        "\n",
        "print(clarity_stats)"
      ]
    },
    {
      "cell_type": "markdown",
      "metadata": {
        "id": "Hmn5-ZEv86Of"
      },
      "source": [
        "### Question 9: \"My luxury competitor claims they have the best prices for every cut-color combination. Show me our pricing structure across these combinations - I want to see where we're competitive.\""
      ]
    },
    {
      "cell_type": "code",
      "execution_count": 17,
      "metadata": {
        "colab": {
          "base_uri": "https://localhost:8080/"
        },
        "id": "kzbb48Q686Of",
        "outputId": "3d13a0cf-5410-4d5f-b696-a79885115829"
      },
      "outputs": [
        {
          "output_type": "stream",
          "name": "stdout",
          "text": [
            "Pricing by (cut, color):\n",
            "shape: (30, 6)\n",
            "┌───────────┬───────┬───────┬──────────────┬──────────────┬──────────────┐\n",
            "│ Cut       ┆ Color ┆ count ┆ median_price ┆ avg_price    ┆ total_carats │\n",
            "│ ---       ┆ ---   ┆ ---   ┆ ---          ┆ ---          ┆ ---          │\n",
            "│ str       ┆ str   ┆ u32   ┆ f64          ┆ f64          ┆ null         │\n",
            "╞═══════════╪═══════╪═══════╪══════════════╪══════════════╪══════════════╡\n",
            "│ Fair      ┆ D     ┆ 12    ┆ 5040.0       ┆ 6058.25      ┆ null         │\n",
            "│ Fair      ┆ E     ┆ 32    ┆ 4908.5       ┆ 5370.625     ┆ null         │\n",
            "│ Fair      ┆ F     ┆ 24    ┆ 4628.0       ┆ 6063.625     ┆ null         │\n",
            "│ Fair      ┆ G     ┆ 21    ┆ 4646.0       ┆ 7345.52381   ┆ null         │\n",
            "│ Fair      ┆ H     ┆ 24    ┆ 4358.0       ┆ 5908.5       ┆ null         │\n",
            "│ …         ┆ …     ┆ …     ┆ …            ┆ …            ┆ …            │\n",
            "│ Very Good ┆ E     ┆ 323   ┆ 6703.0       ┆ 12101.910217 ┆ null         │\n",
            "│ Very Good ┆ F     ┆ 455   ┆ 8330.0       ┆ 12413.905495 ┆ null         │\n",
            "│ Very Good ┆ G     ┆ 578   ┆ 8249.0       ┆ 12354.013841 ┆ null         │\n",
            "│ Very Good ┆ H     ┆ 424   ┆ 6564.0       ┆ 10056.106132 ┆ null         │\n",
            "│ Very Good ┆ I     ┆ 383   ┆ 6684.0       ┆ 8930.031332  ┆ null         │\n",
            "└───────────┴───────┴───────┴──────────────┴──────────────┴──────────────┘\n"
          ]
        }
      ],
      "source": [
        "# Your code here:\n",
        "\n",
        "combo = (\n",
        "    df.group_by([\"Cut\", \"Color\"])\n",
        "      .agg([\n",
        "          pl.len().alias(\"count\"),\n",
        "          pl.col(\"Price\").median().alias(\"median_price\"),\n",
        "          pl.col(\"Price\").mean().alias(\"avg_price\"),\n",
        "          pl.col(\"Carat Weight\").sum().alias(\"total_carats\") if \"carat\" in df.columns else pl.lit(None).alias(\"total_carats\")\n",
        "      ])\n",
        "      .sort([\"Cut\", \"Color\"])\n",
        ")\n",
        "\n",
        "print(\"Pricing by (cut, color):\")\n",
        "print(combo)"
      ]
    },
    {
      "cell_type": "markdown",
      "metadata": {
        "id": "DWEQs4Qd86Of"
      },
      "source": [
        "**Reflection:** How specific is your analysis now? What level of detail does each row represent?"
      ]
    },
    {
      "cell_type": "markdown",
      "metadata": {
        "id": "W7Umtc_C86Of"
      },
      "source": [
        "**Your answer:** New grain = Each row is now an entire segment of diamonds defined by a cut and a color."
      ]
    },
    {
      "cell_type": "markdown",
      "metadata": {
        "id": "2DKea-5r86Of"
      },
      "source": [
        "### Question 10: URGENT - \"Our biggest client is interested in purchasing entire inventory segments. They asked: 'Which color-cut combinations represent your highest total inventory value?' Show me the top 5 most valuable inventory segments by total worth, and include how many diamonds are in each segment.\"\n",
        "\n",
        "This is critical for tomorrow's negotiation."
      ]
    },
    {
      "cell_type": "code",
      "execution_count": 18,
      "metadata": {
        "colab": {
          "base_uri": "https://localhost:8080/"
        },
        "id": "vwk01wAd86Of",
        "outputId": "536a033f-533d-4e7e-fd3e-9d51908dd48b"
      },
      "outputs": [
        {
          "output_type": "stream",
          "name": "stdout",
          "text": [
            "Top 5 most valuable inventory segments (by color + cut):\n",
            "shape: (5, 4)\n",
            "┌───────┬───────────┬───────┬─────────────┐\n",
            "│ Color ┆ Cut       ┆ count ┆ total_value │\n",
            "│ ---   ┆ ---       ┆ ---   ┆ ---         │\n",
            "│ str   ┆ str       ┆ u32   ┆ i64         │\n",
            "╞═══════╪═══════════╪═══════╪═════════════╡\n",
            "│ G     ┆ Ideal     ┆ 690   ┆ 9363514     │\n",
            "│ G     ┆ Very Good ┆ 578   ┆ 7140620     │\n",
            "│ F     ┆ Very Good ┆ 455   ┆ 5648327     │\n",
            "│ F     ┆ Ideal     ┆ 363   ┆ 5346782     │\n",
            "│ H     ┆ Ideal     ┆ 458   ┆ 5279687     │\n",
            "└───────┴───────────┴───────┴─────────────┘\n"
          ]
        }
      ],
      "source": [
        "# Your code here:\n",
        "segments = (\n",
        "    df.group_by([\"Color\", \"Cut\"])\n",
        "      .agg([\n",
        "          pl.len().alias(\"count\"),\n",
        "          pl.col(\"Price\").sum().alias(\"total_value\")\n",
        "      ])\n",
        "      .sort(\"total_value\", descending=True)\n",
        "      .head(5)\n",
        ")\n",
        "\n",
        "print(\"Top 5 most valuable inventory segments (by color + cut):\")\n",
        "print(segments)"
      ]
    },
    {
      "cell_type": "markdown",
      "metadata": {
        "id": "j9xClz9v86Og"
      },
      "source": [
        "## Debrief\n",
        "\n",
        "Congratulations! You've just completed your first day as the diamond company's data analyst.\n",
        "\n",
        "Remember:\n",
        "- CEOs speak in business language, not technical terms\n",
        "- Always understand what each row represents before analyzing\n",
        "- Business questions contain clues about which operations to use"
      ]
    }
  ],
  "metadata": {
    "kernelspec": {
      "display_name": "Python 3",
      "language": "python",
      "name": "python3"
    },
    "language_info": {
      "codemirror_mode": {
        "name": "ipython",
        "version": 3
      },
      "file_extension": ".py",
      "mimetype": "text/x-python",
      "name": "python",
      "nbconvert_exporter": "python",
      "pygments_lexer": "ipython3",
      "version": "3.12.0"
    },
    "colab": {
      "provenance": []
    }
  },
  "nbformat": 4,
  "nbformat_minor": 0
}